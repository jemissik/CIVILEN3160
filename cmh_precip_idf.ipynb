{
  "cells": [
    {
      "cell_type": "code",
      "execution_count": 1,
      "metadata": {
        "id": "KavWbNfDWQrL"
      },
      "outputs": [],
      "source": [
        "import pandas as pd\n",
        "import numpy as np\n",
        "import matplotlib.pyplot as plt\n",
        "from scipy.stats import genextreme as gev\n",
        "\n",
        "from pathlib import Path"
      ]
    },
    {
      "cell_type": "markdown",
      "metadata": {
        "id": "LsTPB1Q9rHh2"
      },
      "source": [
        "##  Rainfall data\n",
        "\n",
        "Here, we are using daily rainfall data from the CMH airport. Units are mm."
      ]
    },
    {
      "cell_type": "code",
      "execution_count": 2,
      "metadata": {
        "id": "p6rDZUsWWSqC"
      },
      "outputs": [],
      "source": [
        "filein = \"./data/cmh_daily_precip_mm.csv\"\n",
        "df = pd.read_csv(filein, parse_dates=[\"DATE\"], index_col=\"DATE\")"
      ]
    },
    {
      "cell_type": "code",
      "execution_count": 3,
      "metadata": {
        "colab": {
          "base_uri": "https://localhost:8080/",
          "height": 455
        },
        "id": "6rXZTyExWk4X",
        "outputId": "ff6102b5-8d17-4d63-8463-1b7275ff9099"
      },
      "outputs": [
        {
          "data": {
            "text/html": [
              "<div>\n",
              "<style scoped>\n",
              "    .dataframe tbody tr th:only-of-type {\n",
              "        vertical-align: middle;\n",
              "    }\n",
              "\n",
              "    .dataframe tbody tr th {\n",
              "        vertical-align: top;\n",
              "    }\n",
              "\n",
              "    .dataframe thead th {\n",
              "        text-align: right;\n",
              "    }\n",
              "</style>\n",
              "<table border=\"1\" class=\"dataframe\">\n",
              "  <thead>\n",
              "    <tr style=\"text-align: right;\">\n",
              "      <th></th>\n",
              "      <th>STATION</th>\n",
              "      <th>NAME</th>\n",
              "      <th>PRCP</th>\n",
              "    </tr>\n",
              "    <tr>\n",
              "      <th>DATE</th>\n",
              "      <th></th>\n",
              "      <th></th>\n",
              "      <th></th>\n",
              "    </tr>\n",
              "  </thead>\n",
              "  <tbody>\n",
              "    <tr>\n",
              "      <th>1948-01-01</th>\n",
              "      <td>USW00014821</td>\n",
              "      <td>JOHN GLENN INTERNATIONAL AIRPORT, OH US</td>\n",
              "      <td>32.5</td>\n",
              "    </tr>\n",
              "    <tr>\n",
              "      <th>1948-01-02</th>\n",
              "      <td>USW00014821</td>\n",
              "      <td>JOHN GLENN INTERNATIONAL AIRPORT, OH US</td>\n",
              "      <td>0.8</td>\n",
              "    </tr>\n",
              "    <tr>\n",
              "      <th>1948-01-03</th>\n",
              "      <td>USW00014821</td>\n",
              "      <td>JOHN GLENN INTERNATIONAL AIRPORT, OH US</td>\n",
              "      <td>0.0</td>\n",
              "    </tr>\n",
              "    <tr>\n",
              "      <th>1948-01-04</th>\n",
              "      <td>USW00014821</td>\n",
              "      <td>JOHN GLENN INTERNATIONAL AIRPORT, OH US</td>\n",
              "      <td>2.5</td>\n",
              "    </tr>\n",
              "    <tr>\n",
              "      <th>1948-01-05</th>\n",
              "      <td>USW00014821</td>\n",
              "      <td>JOHN GLENN INTERNATIONAL AIRPORT, OH US</td>\n",
              "      <td>0.0</td>\n",
              "    </tr>\n",
              "    <tr>\n",
              "      <th>...</th>\n",
              "      <td>...</td>\n",
              "      <td>...</td>\n",
              "      <td>...</td>\n",
              "    </tr>\n",
              "    <tr>\n",
              "      <th>2022-12-27</th>\n",
              "      <td>USW00014821</td>\n",
              "      <td>JOHN GLENN INTERNATIONAL AIRPORT, OH US</td>\n",
              "      <td>0.0</td>\n",
              "    </tr>\n",
              "    <tr>\n",
              "      <th>2022-12-28</th>\n",
              "      <td>USW00014821</td>\n",
              "      <td>JOHN GLENN INTERNATIONAL AIRPORT, OH US</td>\n",
              "      <td>0.0</td>\n",
              "    </tr>\n",
              "    <tr>\n",
              "      <th>2022-12-29</th>\n",
              "      <td>USW00014821</td>\n",
              "      <td>JOHN GLENN INTERNATIONAL AIRPORT, OH US</td>\n",
              "      <td>0.0</td>\n",
              "    </tr>\n",
              "    <tr>\n",
              "      <th>2022-12-30</th>\n",
              "      <td>USW00014821</td>\n",
              "      <td>JOHN GLENN INTERNATIONAL AIRPORT, OH US</td>\n",
              "      <td>0.0</td>\n",
              "    </tr>\n",
              "    <tr>\n",
              "      <th>2022-12-31</th>\n",
              "      <td>USW00014821</td>\n",
              "      <td>JOHN GLENN INTERNATIONAL AIRPORT, OH US</td>\n",
              "      <td>11.2</td>\n",
              "    </tr>\n",
              "  </tbody>\n",
              "</table>\n",
              "<p>27394 rows × 3 columns</p>\n",
              "</div>"
            ],
            "text/plain": [
              "                STATION                                     NAME  PRCP\n",
              "DATE                                                                  \n",
              "1948-01-01  USW00014821  JOHN GLENN INTERNATIONAL AIRPORT, OH US  32.5\n",
              "1948-01-02  USW00014821  JOHN GLENN INTERNATIONAL AIRPORT, OH US   0.8\n",
              "1948-01-03  USW00014821  JOHN GLENN INTERNATIONAL AIRPORT, OH US   0.0\n",
              "1948-01-04  USW00014821  JOHN GLENN INTERNATIONAL AIRPORT, OH US   2.5\n",
              "1948-01-05  USW00014821  JOHN GLENN INTERNATIONAL AIRPORT, OH US   0.0\n",
              "...                 ...                                      ...   ...\n",
              "2022-12-27  USW00014821  JOHN GLENN INTERNATIONAL AIRPORT, OH US   0.0\n",
              "2022-12-28  USW00014821  JOHN GLENN INTERNATIONAL AIRPORT, OH US   0.0\n",
              "2022-12-29  USW00014821  JOHN GLENN INTERNATIONAL AIRPORT, OH US   0.0\n",
              "2022-12-30  USW00014821  JOHN GLENN INTERNATIONAL AIRPORT, OH US   0.0\n",
              "2022-12-31  USW00014821  JOHN GLENN INTERNATIONAL AIRPORT, OH US  11.2\n",
              "\n",
              "[27394 rows x 3 columns]"
            ]
          },
          "execution_count": 3,
          "metadata": {},
          "output_type": "execute_result"
        }
      ],
      "source": [
        "df"
      ]
    },
    {
      "cell_type": "code",
      "execution_count": 4,
      "metadata": {
        "colab": {
          "base_uri": "https://localhost:8080/",
          "height": 472
        },
        "id": "o5_MClZHYBsY",
        "outputId": "a1d6d058-d69e-4d7b-9d9c-6c29d82fd6cf"
      },
      "outputs": [
        {
          "data": {
            "image/png": "[encoded data removed]",
            "text/plain": [
              "<Figure size 640x480 with 1 Axes>"
            ]
          },
          "metadata": {},
          "output_type": "display_data"
        }
      ],
      "source": [
        "fig = plt.figure(1)\n",
        "plt.plot(df.PRCP)  # The index column will be used for the x-axis if not otherwise specified\n",
        "plt.xlabel('Date')\n",
        "plt.ylabel('Daily Precip [mm]')\n",
        "plt.title('John Glenn Airport, Columbus, OH')\n",
        "plt.show()\n",
        "\n",
        "fileout = 'cmh_daily_precip.png'\n",
        "fig.savefig(fileout, dpi=300)"
      ]
    },
    {
      "cell_type": "markdown",
      "metadata": {},
      "source": [
        "# IDF curve analysis \n",
        "\n",
        "Set 1: 2, 5, 10, 25 year return times. Use entire time series "
      ]
    },
    {
      "cell_type": "code",
      "execution_count": 5,
      "metadata": {},
      "outputs": [
        {
          "data": {
            "text/plain": [
              "0"
            ]
          },
          "execution_count": 5,
          "metadata": {},
          "output_type": "execute_result"
        }
      ],
      "source": [
        "# Check for missing data\n",
        "df.PRCP.isnull().sum()"
      ]
    },
    {
      "cell_type": "code",
      "execution_count": 6,
      "metadata": {},
      "outputs": [
        {
          "data": {
            "text/plain": [
              "75"
            ]
          },
          "execution_count": 6,
          "metadata": {},
          "output_type": "execute_result"
        }
      ],
      "source": [
        "# Number of years in the dataset\n",
        "len(pd.unique(df.index.year))"
      ]
    },
    {
      "cell_type": "code",
      "execution_count": 7,
      "metadata": {},
      "outputs": [],
      "source": [
        "def calc_idf_annualmax(df, p_var='PRCP', duration=24, years_to_calc=[1, 2, 5, 10, 25], output_dir=None):\n",
        "\n",
        "    # Calculate annual max precip\n",
        "    df2 = df[[p_var]].groupby(df.index.year).max()\n",
        "\n",
        "    # Sort precip values from largest to smallest\n",
        "    df2 = df2.sort_values(by=p_var, ascending=False)\n",
        "\n",
        "    # Add a column for the rank of each year\n",
        "    df2[\"m\"] = np.arange(1, len(df2)+1)\n",
        "\n",
        "    # Add a column for the return period\n",
        "    df2[\"return_period\"] = (len(df2)+ 1) / df2.m\n",
        "\n",
        "    df3 = df2.copy()\n",
        "    df3 = df2[['return_period', 'PRCP']]\n",
        "    df3 = df3.set_index('return_period')\n",
        "\n",
        "    for year in years_to_calc:\n",
        "        if year not in df3.index:\n",
        "            df3.loc[year] = np.nan\n",
        "    df3 = df3.sort_index().interpolate(method='index', limit_direction='both')\n",
        "\n",
        "    # rename precip column\n",
        "    df3 = df3.rename(columns={p_var: 'precip_depth'})\n",
        "    df3['precip_intensity'] = df3.precip_depth / duration\n",
        "\n",
        "    df4 = df3[df3.index.isin(years_to_calc)]\n",
        "\n",
        "    if output_dir is not None:\n",
        "        df4.to_csv(Path(output_dir) / 'cmh_idf_summary.csv')\n",
        "        df3.to_csv(Path(output_dir) / 'cmh_idf_full.csv')\n",
        "\n",
        "    return df4"
      ]
    },
    {
      "cell_type": "code",
      "execution_count": 8,
      "metadata": {},
      "outputs": [
        {
          "data": {
            "text/html": [
              "<div>\n",
              "<style scoped>\n",
              "    .dataframe tbody tr th:only-of-type {\n",
              "        vertical-align: middle;\n",
              "    }\n",
              "\n",
              "    .dataframe tbody tr th {\n",
              "        vertical-align: top;\n",
              "    }\n",
              "\n",
              "    .dataframe thead th {\n",
              "        text-align: right;\n",
              "    }\n",
              "</style>\n",
              "<table border=\"1\" class=\"dataframe\">\n",
              "  <thead>\n",
              "    <tr style=\"text-align: right;\">\n",
              "      <th></th>\n",
              "      <th>precip_depth</th>\n",
              "      <th>precip_intensity</th>\n",
              "    </tr>\n",
              "    <tr>\n",
              "      <th>return_period</th>\n",
              "      <th></th>\n",
              "      <th></th>\n",
              "    </tr>\n",
              "  </thead>\n",
              "  <tbody>\n",
              "    <tr>\n",
              "      <th>1.0</th>\n",
              "      <td>29.500000</td>\n",
              "      <td>1.229167</td>\n",
              "    </tr>\n",
              "    <tr>\n",
              "      <th>2.0</th>\n",
              "      <td>55.400000</td>\n",
              "      <td>2.308333</td>\n",
              "    </tr>\n",
              "    <tr>\n",
              "      <th>5.0</th>\n",
              "      <td>67.800000</td>\n",
              "      <td>2.825000</td>\n",
              "    </tr>\n",
              "    <tr>\n",
              "      <th>10.0</th>\n",
              "      <td>74.984211</td>\n",
              "      <td>3.124342</td>\n",
              "    </tr>\n",
              "    <tr>\n",
              "      <th>25.0</th>\n",
              "      <td>93.600000</td>\n",
              "      <td>3.900000</td>\n",
              "    </tr>\n",
              "  </tbody>\n",
              "</table>\n",
              "</div>"
            ],
            "text/plain": [
              "               precip_depth  precip_intensity\n",
              "return_period                                \n",
              "1.0               29.500000          1.229167\n",
              "2.0               55.400000          2.308333\n",
              "5.0               67.800000          2.825000\n",
              "10.0              74.984211          3.124342\n",
              "25.0              93.600000          3.900000"
            ]
          },
          "execution_count": 8,
          "metadata": {},
          "output_type": "execute_result"
        }
      ],
      "source": [
        "output_dir = './results/fullset/'\n",
        "fullset_idf = calc_idf_annualmax(df, output_dir=output_dir)\n",
        "fullset_idf"
      ]
    },
    {
      "cell_type": "code",
      "execution_count": 9,
      "metadata": {},
      "outputs": [
        {
          "data": {
            "text/html": [
              "<div>\n",
              "<style scoped>\n",
              "    .dataframe tbody tr th:only-of-type {\n",
              "        vertical-align: middle;\n",
              "    }\n",
              "\n",
              "    .dataframe tbody tr th {\n",
              "        vertical-align: top;\n",
              "    }\n",
              "\n",
              "    .dataframe thead th {\n",
              "        text-align: right;\n",
              "    }\n",
              "</style>\n",
              "<table border=\"1\" class=\"dataframe\">\n",
              "  <thead>\n",
              "    <tr style=\"text-align: right;\">\n",
              "      <th></th>\n",
              "      <th>STATION</th>\n",
              "      <th>NAME</th>\n",
              "      <th>PRCP</th>\n",
              "    </tr>\n",
              "    <tr>\n",
              "      <th>DATE</th>\n",
              "      <th></th>\n",
              "      <th></th>\n",
              "      <th></th>\n",
              "    </tr>\n",
              "  </thead>\n",
              "  <tbody>\n",
              "    <tr>\n",
              "      <th>1949-01-01</th>\n",
              "      <td>USW00014821</td>\n",
              "      <td>JOHN GLENN INTERNATIONAL AIRPORT, OH US</td>\n",
              "      <td>0.0</td>\n",
              "    </tr>\n",
              "    <tr>\n",
              "      <th>1949-01-02</th>\n",
              "      <td>USW00014821</td>\n",
              "      <td>JOHN GLENN INTERNATIONAL AIRPORT, OH US</td>\n",
              "      <td>0.0</td>\n",
              "    </tr>\n",
              "    <tr>\n",
              "      <th>1949-01-03</th>\n",
              "      <td>USW00014821</td>\n",
              "      <td>JOHN GLENN INTERNATIONAL AIRPORT, OH US</td>\n",
              "      <td>0.0</td>\n",
              "    </tr>\n",
              "    <tr>\n",
              "      <th>1949-01-04</th>\n",
              "      <td>USW00014821</td>\n",
              "      <td>JOHN GLENN INTERNATIONAL AIRPORT, OH US</td>\n",
              "      <td>41.4</td>\n",
              "    </tr>\n",
              "    <tr>\n",
              "      <th>1949-01-05</th>\n",
              "      <td>USW00014821</td>\n",
              "      <td>JOHN GLENN INTERNATIONAL AIRPORT, OH US</td>\n",
              "      <td>8.4</td>\n",
              "    </tr>\n",
              "    <tr>\n",
              "      <th>...</th>\n",
              "      <td>...</td>\n",
              "      <td>...</td>\n",
              "      <td>...</td>\n",
              "    </tr>\n",
              "    <tr>\n",
              "      <th>2000-12-27</th>\n",
              "      <td>USW00014821</td>\n",
              "      <td>JOHN GLENN INTERNATIONAL AIRPORT, OH US</td>\n",
              "      <td>0.0</td>\n",
              "    </tr>\n",
              "    <tr>\n",
              "      <th>2000-12-28</th>\n",
              "      <td>USW00014821</td>\n",
              "      <td>JOHN GLENN INTERNATIONAL AIRPORT, OH US</td>\n",
              "      <td>0.3</td>\n",
              "    </tr>\n",
              "    <tr>\n",
              "      <th>2000-12-29</th>\n",
              "      <td>USW00014821</td>\n",
              "      <td>JOHN GLENN INTERNATIONAL AIRPORT, OH US</td>\n",
              "      <td>0.5</td>\n",
              "    </tr>\n",
              "    <tr>\n",
              "      <th>2000-12-30</th>\n",
              "      <td>USW00014821</td>\n",
              "      <td>JOHN GLENN INTERNATIONAL AIRPORT, OH US</td>\n",
              "      <td>1.5</td>\n",
              "    </tr>\n",
              "    <tr>\n",
              "      <th>2000-12-31</th>\n",
              "      <td>USW00014821</td>\n",
              "      <td>JOHN GLENN INTERNATIONAL AIRPORT, OH US</td>\n",
              "      <td>0.0</td>\n",
              "    </tr>\n",
              "  </tbody>\n",
              "</table>\n",
              "<p>18993 rows × 3 columns</p>\n",
              "</div>"
            ],
            "text/plain": [
              "                STATION                                     NAME  PRCP\n",
              "DATE                                                                  \n",
              "1949-01-01  USW00014821  JOHN GLENN INTERNATIONAL AIRPORT, OH US   0.0\n",
              "1949-01-02  USW00014821  JOHN GLENN INTERNATIONAL AIRPORT, OH US   0.0\n",
              "1949-01-03  USW00014821  JOHN GLENN INTERNATIONAL AIRPORT, OH US   0.0\n",
              "1949-01-04  USW00014821  JOHN GLENN INTERNATIONAL AIRPORT, OH US  41.4\n",
              "1949-01-05  USW00014821  JOHN GLENN INTERNATIONAL AIRPORT, OH US   8.4\n",
              "...                 ...                                      ...   ...\n",
              "2000-12-27  USW00014821  JOHN GLENN INTERNATIONAL AIRPORT, OH US   0.0\n",
              "2000-12-28  USW00014821  JOHN GLENN INTERNATIONAL AIRPORT, OH US   0.3\n",
              "2000-12-29  USW00014821  JOHN GLENN INTERNATIONAL AIRPORT, OH US   0.5\n",
              "2000-12-30  USW00014821  JOHN GLENN INTERNATIONAL AIRPORT, OH US   1.5\n",
              "2000-12-31  USW00014821  JOHN GLENN INTERNATIONAL AIRPORT, OH US   0.0\n",
              "\n",
              "[18993 rows x 3 columns]"
            ]
          },
          "execution_count": 9,
          "metadata": {},
          "output_type": "execute_result"
        }
      ],
      "source": [
        "df_noaa = df[(df.index.year >= 1949) & (df.index.year <= 2000)]\n",
        "df_noaa"
      ]
    },
    {
      "cell_type": "code",
      "execution_count": 10,
      "metadata": {},
      "outputs": [
        {
          "data": {
            "text/html": [
              "<div>\n",
              "<style scoped>\n",
              "    .dataframe tbody tr th:only-of-type {\n",
              "        vertical-align: middle;\n",
              "    }\n",
              "\n",
              "    .dataframe tbody tr th {\n",
              "        vertical-align: top;\n",
              "    }\n",
              "\n",
              "    .dataframe thead th {\n",
              "        text-align: right;\n",
              "    }\n",
              "</style>\n",
              "<table border=\"1\" class=\"dataframe\">\n",
              "  <thead>\n",
              "    <tr style=\"text-align: right;\">\n",
              "      <th></th>\n",
              "      <th>precip_depth</th>\n",
              "      <th>precip_intensity</th>\n",
              "      <th>precip_depth_adjusted</th>\n",
              "      <th>precip_intensity_adjusted</th>\n",
              "    </tr>\n",
              "    <tr>\n",
              "      <th>return_period</th>\n",
              "      <th></th>\n",
              "      <th></th>\n",
              "      <th></th>\n",
              "      <th></th>\n",
              "    </tr>\n",
              "  </thead>\n",
              "  <tbody>\n",
              "    <tr>\n",
              "      <th>1.0</th>\n",
              "      <td>29.500000</td>\n",
              "      <td>1.229167</td>\n",
              "      <td>33.453000</td>\n",
              "      <td>1.393875</td>\n",
              "    </tr>\n",
              "    <tr>\n",
              "      <th>2.0</th>\n",
              "      <td>55.400000</td>\n",
              "      <td>2.308333</td>\n",
              "      <td>62.823600</td>\n",
              "      <td>2.617650</td>\n",
              "    </tr>\n",
              "    <tr>\n",
              "      <th>5.0</th>\n",
              "      <td>67.800000</td>\n",
              "      <td>2.825000</td>\n",
              "      <td>76.885200</td>\n",
              "      <td>3.203550</td>\n",
              "    </tr>\n",
              "    <tr>\n",
              "      <th>10.0</th>\n",
              "      <td>74.984211</td>\n",
              "      <td>3.124342</td>\n",
              "      <td>85.032095</td>\n",
              "      <td>3.543004</td>\n",
              "    </tr>\n",
              "    <tr>\n",
              "      <th>25.0</th>\n",
              "      <td>93.600000</td>\n",
              "      <td>3.900000</td>\n",
              "      <td>106.142400</td>\n",
              "      <td>4.422600</td>\n",
              "    </tr>\n",
              "  </tbody>\n",
              "</table>\n",
              "</div>"
            ],
            "text/plain": [
              "               precip_depth  precip_intensity  precip_depth_adjusted  \\\n",
              "return_period                                                          \n",
              "1.0               29.500000          1.229167              33.453000   \n",
              "2.0               55.400000          2.308333              62.823600   \n",
              "5.0               67.800000          2.825000              76.885200   \n",
              "10.0              74.984211          3.124342              85.032095   \n",
              "25.0              93.600000          3.900000             106.142400   \n",
              "\n",
              "               precip_intensity_adjusted  \n",
              "return_period                             \n",
              "1.0                             1.393875  \n",
              "2.0                             2.617650  \n",
              "5.0                             3.203550  \n",
              "10.0                            3.543004  \n",
              "25.0                            4.422600  "
            ]
          },
          "execution_count": 10,
          "metadata": {},
          "output_type": "execute_result"
        }
      ],
      "source": [
        "output_dir = './results/noaa/'\n",
        "noaa_idf = calc_idf_annualmax(df, output_dir=output_dir)\n",
        "noaa_idf\n",
        "\n",
        "\n",
        "# NOAA uses a multiplier of 1.134 to adjust daily precipitation to 24-hour precip (since the 24 hour window might not fall in the same day)\n",
        "noaa_idf['precip_depth_adjusted'] = noaa_idf.precip_depth * 1.134\n",
        "noaa_idf['precip_intensity_adjusted'] = noaa_idf.precip_intensity * 1.134\n",
        "noaa_idf\n"
      ]
    },
    {
      "cell_type": "code",
      "execution_count": 11,
      "metadata": {},
      "outputs": [],
      "source": [
        "def calc_idf_partialreturn(df, p_var='PRCP', duration=24, years_to_calc=[1, 2, 5, 10, 25], output_dir=None):\n",
        "\n",
        "    df2 = df.copy()\n",
        "\n",
        "    # Sort precip values from largest to smallest\n",
        "    df2 = df2.sort_values(by=p_var, ascending=False)\n",
        "\n",
        "    # Find n largest precip values\n",
        "    n = len(pd.unique(df.index.year))\n",
        "    df2 = df2.iloc[:n]\n",
        "    print(f'Years: {n}')\n",
        "\n",
        "    # Add a column for the rank of each year\n",
        "    df2[\"m\"] = np.arange(1, len(df2)+1)\n",
        "\n",
        "    # Add a column for the return period\n",
        "    df2[\"return_period_partial\"] = (len(df2)+ 1) / df2.m\n",
        "    df2[\"return_period_annual\"] = 1 / (-np.exp(-1/df2.return_period_partial) + 1)\n",
        "\n",
        "    df3 = df2.copy()\n",
        "    df3 = df2[['return_period_annual', 'return_period_partial', 'PRCP']]\n",
        "    df3 = df3.set_index('return_period_annual')\n",
        "\n",
        "    for year in years_to_calc:\n",
        "        if year not in df3.index:\n",
        "            df3.loc[year] = np.nan\n",
        "            df3.loc[year, 'return_period_partial'] = -1 / (np.log(1-(1/year)))\n",
        "    df3[p_var] = df3.sort_index().interpolate(method='index', limit_direction='both')[p_var]\n",
        "\n",
        "    # rename precip column\n",
        "    df3 = df3.rename(columns={p_var: 'precip_depth'})\n",
        "    df3['precip_intensity'] = df3.precip_depth / duration\n",
        "\n",
        "    df4 = df3[df3.index.isin(years_to_calc)]\n",
        "\n",
        "    if output_dir is not None:\n",
        "        df4.to_csv(Path(output_dir) / 'cmh_idf_summary.csv')\n",
        "        df3.to_csv(Path(output_dir) / 'cmh_idf_full.csv')\n",
        "\n",
        "    return df4"
      ]
    },
    {
      "cell_type": "code",
      "execution_count": 12,
      "metadata": {},
      "outputs": [
        {
          "name": "stdout",
          "output_type": "stream",
          "text": [
            "Years: 10\n"
          ]
        },
        {
          "name": "stderr",
          "output_type": "stream",
          "text": [
            "/var/folders/nz/qzmpqd690vx_df6hvrfqjdsr0000gn/T/ipykernel_21705/3232294149.py:27: RuntimeWarning: divide by zero encountered in log\n",
            "  df3.loc[year, 'return_period_partial'] = -1 / (np.log(1-(1/year)))\n"
          ]
        },
        {
          "data": {
            "text/html": [
              "<div>\n",
              "<style scoped>\n",
              "    .dataframe tbody tr th:only-of-type {\n",
              "        vertical-align: middle;\n",
              "    }\n",
              "\n",
              "    .dataframe tbody tr th {\n",
              "        vertical-align: top;\n",
              "    }\n",
              "\n",
              "    .dataframe thead th {\n",
              "        text-align: right;\n",
              "    }\n",
              "</style>\n",
              "<table border=\"1\" class=\"dataframe\">\n",
              "  <thead>\n",
              "    <tr style=\"text-align: right;\">\n",
              "      <th></th>\n",
              "      <th>return_period_partial</th>\n",
              "      <th>precip_depth</th>\n",
              "      <th>precip_intensity</th>\n",
              "    </tr>\n",
              "    <tr>\n",
              "      <th>return_period_annual</th>\n",
              "      <th></th>\n",
              "      <th></th>\n",
              "      <th></th>\n",
              "    </tr>\n",
              "  </thead>\n",
              "  <tbody>\n",
              "    <tr>\n",
              "      <th>1.0</th>\n",
              "      <td>0.000000</td>\n",
              "      <td>40.400000</td>\n",
              "      <td>1.683333</td>\n",
              "    </tr>\n",
              "    <tr>\n",
              "      <th>2.0</th>\n",
              "      <td>1.442695</td>\n",
              "      <td>43.371727</td>\n",
              "      <td>1.807155</td>\n",
              "    </tr>\n",
              "    <tr>\n",
              "      <th>5.0</th>\n",
              "      <td>4.481420</td>\n",
              "      <td>62.017538</td>\n",
              "      <td>2.584064</td>\n",
              "    </tr>\n",
              "    <tr>\n",
              "      <th>10.0</th>\n",
              "      <td>9.491222</td>\n",
              "      <td>71.717796</td>\n",
              "      <td>2.988242</td>\n",
              "    </tr>\n",
              "    <tr>\n",
              "      <th>25.0</th>\n",
              "      <td>24.496598</td>\n",
              "      <td>73.200000</td>\n",
              "      <td>3.050000</td>\n",
              "    </tr>\n",
              "  </tbody>\n",
              "</table>\n",
              "</div>"
            ],
            "text/plain": [
              "                      return_period_partial  precip_depth  precip_intensity\n",
              "return_period_annual                                                       \n",
              "1.0                                0.000000     40.400000          1.683333\n",
              "2.0                                1.442695     43.371727          1.807155\n",
              "5.0                                4.481420     62.017538          2.584064\n",
              "10.0                               9.491222     71.717796          2.988242\n",
              "25.0                              24.496598     73.200000          3.050000"
            ]
          },
          "execution_count": 12,
          "metadata": {},
          "output_type": "execute_result"
        }
      ],
      "source": [
        "output_dir = './results/oldest10/'\n",
        "df_oldest10 = df[(df.index.year >= 1948) & (df.index.year <= 1957)]\n",
        "oldest10 = calc_idf_partialreturn(df_oldest10, output_dir=output_dir)\n",
        "oldest10\n"
      ]
    },
    {
      "cell_type": "code",
      "execution_count": 13,
      "metadata": {},
      "outputs": [
        {
          "name": "stdout",
          "output_type": "stream",
          "text": [
            "Years: 10\n"
          ]
        },
        {
          "name": "stderr",
          "output_type": "stream",
          "text": [
            "/var/folders/nz/qzmpqd690vx_df6hvrfqjdsr0000gn/T/ipykernel_21705/3232294149.py:27: RuntimeWarning: divide by zero encountered in log\n",
            "  df3.loc[year, 'return_period_partial'] = -1 / (np.log(1-(1/year)))\n"
          ]
        },
        {
          "data": {
            "text/html": [
              "<div>\n",
              "<style scoped>\n",
              "    .dataframe tbody tr th:only-of-type {\n",
              "        vertical-align: middle;\n",
              "    }\n",
              "\n",
              "    .dataframe tbody tr th {\n",
              "        vertical-align: top;\n",
              "    }\n",
              "\n",
              "    .dataframe thead th {\n",
              "        text-align: right;\n",
              "    }\n",
              "</style>\n",
              "<table border=\"1\" class=\"dataframe\">\n",
              "  <thead>\n",
              "    <tr style=\"text-align: right;\">\n",
              "      <th></th>\n",
              "      <th>return_period_partial</th>\n",
              "      <th>precip_depth</th>\n",
              "      <th>precip_intensity</th>\n",
              "    </tr>\n",
              "    <tr>\n",
              "      <th>return_period_annual</th>\n",
              "      <th></th>\n",
              "      <th></th>\n",
              "      <th></th>\n",
              "    </tr>\n",
              "  </thead>\n",
              "  <tbody>\n",
              "    <tr>\n",
              "      <th>1.0</th>\n",
              "      <td>0.000000</td>\n",
              "      <td>52.300000</td>\n",
              "      <td>2.179167</td>\n",
              "    </tr>\n",
              "    <tr>\n",
              "      <th>2.0</th>\n",
              "      <td>1.442695</td>\n",
              "      <td>57.715180</td>\n",
              "      <td>2.404799</td>\n",
              "    </tr>\n",
              "    <tr>\n",
              "      <th>5.0</th>\n",
              "      <td>4.481420</td>\n",
              "      <td>75.886366</td>\n",
              "      <td>3.161932</td>\n",
              "    </tr>\n",
              "    <tr>\n",
              "      <th>10.0</th>\n",
              "      <td>9.491222</td>\n",
              "      <td>89.882767</td>\n",
              "      <td>3.745115</td>\n",
              "    </tr>\n",
              "    <tr>\n",
              "      <th>25.0</th>\n",
              "      <td>24.496598</td>\n",
              "      <td>94.000000</td>\n",
              "      <td>3.916667</td>\n",
              "    </tr>\n",
              "  </tbody>\n",
              "</table>\n",
              "</div>"
            ],
            "text/plain": [
              "                      return_period_partial  precip_depth  precip_intensity\n",
              "return_period_annual                                                       \n",
              "1.0                                0.000000     52.300000          2.179167\n",
              "2.0                                1.442695     57.715180          2.404799\n",
              "5.0                                4.481420     75.886366          3.161932\n",
              "10.0                               9.491222     89.882767          3.745115\n",
              "25.0                              24.496598     94.000000          3.916667"
            ]
          },
          "execution_count": 13,
          "metadata": {},
          "output_type": "execute_result"
        }
      ],
      "source": [
        "output_dir = './results/recent10/'\n",
        "df_recent10 = df[(df.index.year >= 2013) & (df.index.year <= 2022)]\n",
        "recent10 = calc_idf_partialreturn(df_recent10, output_dir=output_dir)\n",
        "recent10\n"
      ]
    },
    {
      "cell_type": "markdown",
      "metadata": {
        "id": "uuFl6HFvq-_R"
      },
      "source": [
        "# Probable maximum precipitation\n",
        "\n",
        "Probable maximum precipitation (PMP): The theoretical maximum depth of precipitation that can occur over a specified area at a certain time of year.\n",
        "\n",
        "\n",
        "The probable maximum precipitation for a specific duration (m) is given as:\n",
        "\n",
        "$$ P_m = \\overline{P} + k_m\\sigma_p $$\n",
        "\n",
        "$k_m$ is described by the Hurst-Kolmogorov distribution for extreme values – Koutsoyiannis (1999):\n",
        "\n",
        "$$F(k_m) = 1-1/T = \\exp \\left\\{ - \\left[ 1 + \\frac{0.13(k_m - 0.44)}{0.60} \\right]^{-7.69} \\right\\}$$\n",
        "\n",
        "This equation was fitted using a particular dataset, and may not perform as well in other places. We could instead fit the extreme value distribution to observations in a location of interest.  \n",
        "\n"
      ]
    },
    {
      "cell_type": "markdown",
      "metadata": {
        "id": "LMLx4C0TseDM"
      },
      "source": [
        "## Calculate the Annual Maximum Daily precipitation\n",
        "\n",
        "This dataset already has a 1-day duration, so we don't need to do any aggregation to get to the correct duration.\n",
        "\n",
        "If we needed to aggregate to a different duration, we could use the [resample function in pandas](https://pandas.pydata.org/docs/reference/api/pandas.DataFrame.resample.html)\n",
        "\n",
        "But in this case we just need to find the maximum value for each year:"
      ]
    },
    {
      "cell_type": "code",
      "execution_count": 14,
      "metadata": {
        "id": "FIWJTzlfYhqU"
      },
      "outputs": [],
      "source": [
        "annual_p_max = df.groupby(df.index.year)['PRCP'].max()"
      ]
    },
    {
      "cell_type": "code",
      "execution_count": 15,
      "metadata": {
        "colab": {
          "base_uri": "https://localhost:8080/"
        },
        "id": "OCiHnrlZtDVd",
        "outputId": "7e39ddc5-3c7e-43ca-fd81-57c4b407f88d"
      },
      "outputs": [
        {
          "data": {
            "text/plain": [
              "DATE\n",
              "1948    39.6\n",
              "1949    41.4\n",
              "1950    44.2\n",
              "1951    31.5\n",
              "1952    73.2\n",
              "        ... \n",
              "2018    52.3\n",
              "2019    67.3\n",
              "2020    73.4\n",
              "2021    47.8\n",
              "2022    94.0\n",
              "Name: PRCP, Length: 75, dtype: float64"
            ]
          },
          "execution_count": 15,
          "metadata": {},
          "output_type": "execute_result"
        }
      ],
      "source": [
        "annual_p_max"
      ]
    },
    {
      "cell_type": "code",
      "execution_count": 16,
      "metadata": {
        "colab": {
          "base_uri": "https://localhost:8080/",
          "height": 472
        },
        "id": "TSTA-IQwtLFz",
        "outputId": "b829fee9-6d92-4f77-e068-a1b8354f80ad"
      },
      "outputs": [
        {
          "data": {
            "image/png": "[encoded data removed]",
            "text/plain": [
              "<Figure size 640x480 with 1 Axes>"
            ]
          },
          "metadata": {},
          "output_type": "display_data"
        }
      ],
      "source": [
        "# Plot Annual Max Daily Precip\n",
        "plt.figure(2)\n",
        "plt.plot(annual_p_max, 'x')\n",
        "plt.xlabel('Year')\n",
        "plt.ylabel('Annual Max Daily Precip [inches]')\n",
        "plt.title('John Glenn Airport, Columbus, OH, 1948-2021')\n",
        "plt.show()"
      ]
    },
    {
      "cell_type": "code",
      "execution_count": 17,
      "metadata": {},
      "outputs": [
        {
          "data": {
            "text/plain": [
              "count     75.000000\n",
              "mean      58.201333\n",
              "std       17.006235\n",
              "min       29.500000\n",
              "25%       48.300000\n",
              "50%       55.400000\n",
              "75%       64.900000\n",
              "max      130.300000\n",
              "Name: PRCP, dtype: float64"
            ]
          },
          "execution_count": 17,
          "metadata": {},
          "output_type": "execute_result"
        }
      ],
      "source": [
        "annual_p_max.describe()"
      ]
    },
    {
      "cell_type": "code",
      "execution_count": 18,
      "metadata": {},
      "outputs": [],
      "source": [
        "p_mean = annual_p_max.mean()\n",
        "p_stdev = annual_p_max.std()"
      ]
    },
    {
      "cell_type": "code",
      "execution_count": 19,
      "metadata": {},
      "outputs": [],
      "source": [
        "from scipy.optimize import fsolve\n",
        "\n",
        "def koutsoyiannis(k, T=100):\n",
        "    return np.exp(-(1 + (0.13 * (k - 0.44))/0.6) **(-7.69)) - (1 - 1/T)\n",
        "\n",
        "km = fsolve(koutsoyiannis, [0], args=(100))[0]"
      ]
    },
    {
      "cell_type": "code",
      "execution_count": 20,
      "metadata": {},
      "outputs": [
        {
          "data": {
            "text/plain": [
              "4.219260899538897"
            ]
          },
          "execution_count": 20,
          "metadata": {},
          "output_type": "execute_result"
        }
      ],
      "source": [
        "km"
      ]
    },
    {
      "cell_type": "code",
      "execution_count": 21,
      "metadata": {},
      "outputs": [
        {
          "data": {
            "text/plain": [
              "129.95507526441924"
            ]
          },
          "execution_count": 21,
          "metadata": {},
          "output_type": "execute_result"
        }
      ],
      "source": [
        "pmp = p_mean + km * p_stdev\n",
        "pmp"
      ]
    },
    {
      "cell_type": "code",
      "execution_count": 22,
      "metadata": {},
      "outputs": [
        {
          "data": {
            "text/plain": [
              "5.414794802684135"
            ]
          },
          "execution_count": 22,
          "metadata": {},
          "output_type": "execute_result"
        }
      ],
      "source": [
        "pmp_intensity  = pmp / 24\n",
        "pmp_intensity"
      ]
    },
    {
      "cell_type": "markdown",
      "metadata": {
        "id": "H782D8o2w3K2"
      },
      "source": [
        "## Fitting the generalized extreme value distribution\n",
        "\n",
        "Here, we will use the [scipy.stats](https://docs.scipy.org/doc/scipy/reference/generated/scipy.stats.genextreme.html#scipy.stats.genextreme) module to fit the GEV distribution:"
      ]
    },
    {
      "cell_type": "code",
      "execution_count": 23,
      "metadata": {
        "id": "XmTeYsuqtpDL"
      },
      "outputs": [],
      "source": [
        "# Fitting extreme value distribution\n",
        "AMRdt = annual_p_max.dropna()\n",
        "Params = gev.fit(AMRdt)\n",
        "T = np.arange(2, 101)\n",
        "PT = gev.ppf((1 - 1/T), *Params)"
      ]
    },
    {
      "cell_type": "code",
      "execution_count": 24,
      "metadata": {
        "colab": {
          "base_uri": "https://localhost:8080/",
          "height": 472
        },
        "id": "AEW2OEa9xg5e",
        "outputId": "a13cee36-ec70-44ae-e51c-bb2f9cd9cc02"
      },
      "outputs": [
        {
          "data": {
            "image/png": "[encoded data removed]",
            "text/plain": [
              "<Figure size 640x480 with 1 Axes>"
            ]
          },
          "metadata": {},
          "output_type": "display_data"
        }
      ],
      "source": [
        "# Plotting the fitted distribution of precipitation\n",
        "plt.figure(3)\n",
        "plt.plot(T, PT, 'k')\n",
        "plt.xlabel('Return Time [years]')\n",
        "plt.ylabel('Daily Precip Accumulation [inches]')\n",
        "plt.title('John Glenn Airport, Columbus, OH')\n",
        "plt.show()"
      ]
    },
    {
      "cell_type": "code",
      "execution_count": 25,
      "metadata": {},
      "outputs": [
        {
          "data": {
            "text/plain": [
              "110.93081414026099"
            ]
          },
          "execution_count": 25,
          "metadata": {},
          "output_type": "execute_result"
        }
      ],
      "source": [
        "p_gev = gev.ppf((1 - 1/100), *Params)\n",
        "p_gev"
      ]
    },
    {
      "cell_type": "code",
      "execution_count": 26,
      "metadata": {},
      "outputs": [
        {
          "data": {
            "text/plain": [
              "4.622117255844208"
            ]
          },
          "execution_count": 26,
          "metadata": {},
          "output_type": "execute_result"
        }
      ],
      "source": [
        "p_gev_intensity = p_gev / 24\n",
        "p_gev_intensity"
      ]
    },
    {
      "cell_type": "code",
      "execution_count": 27,
      "metadata": {},
      "outputs": [
        {
          "data": {
            "text/plain": [
              "(-0.019709235997929037, 50.831755820947414, 12.481283849710454)"
            ]
          },
          "execution_count": 27,
          "metadata": {},
          "output_type": "execute_result"
        }
      ],
      "source": [
        "Params"
      ]
    },
    {
      "cell_type": "code",
      "execution_count": 28,
      "metadata": {
        "colab": {
          "base_uri": "https://localhost:8080/",
          "height": 472
        },
        "id": "02djXWeWxlSF",
        "outputId": "e6579d7a-9c80-4534-da45-d9202b1a9deb"
      },
      "outputs": [
        {
          "data": {
            "image/png": "[encoded data removed]",
            "text/plain": [
              "<Figure size 640x480 with 1 Axes>"
            ]
          },
          "metadata": {},
          "output_type": "display_data"
        }
      ],
      "source": [
        "# Histogram (empirical distribution) of AMR\n",
        "plt.figure(4)\n",
        "plt.hist(AMRdt, bins=25, density=True)\n",
        "plt.xlabel('Annual Max Daily Precipitation')\n",
        "plt.ylabel('Probability of Observed Precipitation')\n",
        "plt.title('Distribution of CMH Annual Max Daily Precip')\n",
        "plt.show()"
      ]
    },
    {
      "cell_type": "code",
      "execution_count": null,
      "metadata": {},
      "outputs": [],
      "source": []
    }
  ],
  "metadata": {
    "colab": {
      "provenance": []
    },
    "kernelspec": {
      "display_name": "Python 3",
      "name": "python3"
    },
    "language_info": {
      "codemirror_mode": {
        "name": "ipython",
        "version": 3
      },
      "file_extension": ".py",
      "mimetype": "text/x-python",
      "name": "python",
      "nbconvert_exporter": "python",
      "pygments_lexer": "ipython3",
      "version": "3.10.11"
    }
  },
  "nbformat": 4,
  "nbformat_minor": 0
}
